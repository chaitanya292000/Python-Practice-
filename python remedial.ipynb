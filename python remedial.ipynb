{
 "cells": [
  {
   "cell_type": "code",
   "execution_count": 1,
   "id": "327b835c",
   "metadata": {},
   "outputs": [
    {
     "name": "stdout",
     "output_type": "stream",
     "text": [
      "WELCOME TO SYMBIOSIS\n"
     ]
    }
   ],
   "source": [
    "print(\"WELCOME TO SYMBIOSIS\")"
   ]
  },
  {
   "cell_type": "code",
   "execution_count": 11,
   "id": "0b7e0f4e",
   "metadata": {},
   "outputs": [
    {
     "name": "stdout",
     "output_type": "stream",
     "text": [
      "Enter a number : 10\n"
     ]
    }
   ],
   "source": [
    "a = float(input(\"Enter a number : \"))"
   ]
  },
  {
   "cell_type": "code",
   "execution_count": 12,
   "id": "de288285",
   "metadata": {},
   "outputs": [
    {
     "name": "stdout",
     "output_type": "stream",
     "text": [
      "10.0\n"
     ]
    }
   ],
   "source": [
    "print(a)"
   ]
  },
  {
   "cell_type": "code",
   "execution_count": 13,
   "id": "2f5f007b",
   "metadata": {},
   "outputs": [
    {
     "data": {
      "text/plain": [
       "float"
      ]
     },
     "execution_count": 13,
     "metadata": {},
     "output_type": "execute_result"
    }
   ],
   "source": [
    "type(a)"
   ]
  },
  {
   "cell_type": "code",
   "execution_count": 14,
   "id": "1f13948a",
   "metadata": {},
   "outputs": [],
   "source": [
    "l1 = [1,2,3,4,5]"
   ]
  },
  {
   "cell_type": "code",
   "execution_count": 15,
   "id": "3ab0ff5c",
   "metadata": {},
   "outputs": [
    {
     "name": "stdout",
     "output_type": "stream",
     "text": [
      "[1, 2, 3, 4, 5]\n"
     ]
    }
   ],
   "source": [
    "print(l1)"
   ]
  },
  {
   "cell_type": "code",
   "execution_count": 16,
   "id": "1225ddee",
   "metadata": {},
   "outputs": [
    {
     "name": "stdout",
     "output_type": "stream",
     "text": [
      "[1, 2, 3, 4, 5]\n"
     ]
    }
   ],
   "source": [
    "l2=l1\n",
    "print(l2)"
   ]
  },
  {
   "cell_type": "code",
   "execution_count": 17,
   "id": "2e6c8844",
   "metadata": {},
   "outputs": [
    {
     "name": "stdout",
     "output_type": "stream",
     "text": [
      "[1, 2, 3, 4, 5]\n"
     ]
    }
   ],
   "source": [
    "l3=[1,2,3,4,5]\n",
    "print(l3)"
   ]
  },
  {
   "cell_type": "code",
   "execution_count": 18,
   "id": "937a3bd8",
   "metadata": {},
   "outputs": [
    {
     "name": "stdout",
     "output_type": "stream",
     "text": [
      "2665679048320 2665679048320 2665679048448\n"
     ]
    }
   ],
   "source": [
    "# objects when initialized have different memory location even if they have same data elements\n",
    "print(id(l1),id(l2),id(l3))"
   ]
  },
  {
   "cell_type": "code",
   "execution_count": 19,
   "id": "a59575b4",
   "metadata": {},
   "outputs": [
    {
     "name": "stdout",
     "output_type": "stream",
     "text": [
      "2665679372672 2665679372672 2665679395776\n"
     ]
    }
   ],
   "source": [
    "t1=(1,2,3)\n",
    "t2=t1\n",
    "t3=(1,2,3)\n",
    "print(id(t1),id(t2),id(t3))"
   ]
  },
  {
   "cell_type": "code",
   "execution_count": 20,
   "id": "f66a40f2",
   "metadata": {},
   "outputs": [],
   "source": [
    "t4=(1)"
   ]
  },
  {
   "cell_type": "code",
   "execution_count": 21,
   "id": "50214725",
   "metadata": {},
   "outputs": [
    {
     "data": {
      "text/plain": [
       "int"
      ]
     },
     "execution_count": 21,
     "metadata": {},
     "output_type": "execute_result"
    }
   ],
   "source": [
    "###### intresting\n",
    "type(t4)"
   ]
  },
  {
   "cell_type": "code",
   "execution_count": 22,
   "id": "20676b31",
   "metadata": {},
   "outputs": [],
   "source": [
    "#tuples are iterable so depends on that comma\n",
    "t5=(1,)"
   ]
  },
  {
   "cell_type": "code",
   "execution_count": 23,
   "id": "2668d8c9",
   "metadata": {},
   "outputs": [
    {
     "data": {
      "text/plain": [
       "tuple"
      ]
     },
     "execution_count": 23,
     "metadata": {},
     "output_type": "execute_result"
    }
   ],
   "source": [
    "type(t5)"
   ]
  },
  {
   "cell_type": "code",
   "execution_count": 24,
   "id": "827ffac5",
   "metadata": {},
   "outputs": [
    {
     "data": {
      "text/plain": [
       "list"
      ]
     },
     "execution_count": 24,
     "metadata": {},
     "output_type": "execute_result"
    }
   ],
   "source": [
    "l4 = [1]\n",
    "type(l4)"
   ]
  },
  {
   "cell_type": "code",
   "execution_count": 25,
   "id": "1ec82787",
   "metadata": {},
   "outputs": [],
   "source": [
    "# firstly we wrote a program for printing output then we taken the input from user but to take the input in exact datatype , we \n",
    "# take the input from user throigh user function, then we created list and tuple types , the we seen that even if two variables \n",
    "# will have same elements but their ids of memory location are different one but if we firstly made then by equal as l1=l2 then \n",
    "#they are equal and then we learnt that tuple without comma with single element is not a tuple but an integer and we must give \n",
    "#comma after first element to make it tuple."
   ]
  },
  {
   "cell_type": "code",
   "execution_count": 26,
   "id": "44229ab3",
   "metadata": {},
   "outputs": [],
   "source": [
    "# we must use meaningful variable/ literals while programming to understand it later "
   ]
  },
  {
   "cell_type": "code",
   "execution_count": 27,
   "id": "712fe77d",
   "metadata": {},
   "outputs": [
    {
     "name": "stdout",
     "output_type": "stream",
     "text": [
      "[1, 2, 3, 4, 5]\n"
     ]
    }
   ],
   "source": [
    "print(l1[:])"
   ]
  },
  {
   "cell_type": "code",
   "execution_count": 28,
   "id": "f0c53285",
   "metadata": {},
   "outputs": [
    {
     "name": "stdout",
     "output_type": "stream",
     "text": [
      "[1, 2, 3, 4]\n"
     ]
    }
   ],
   "source": [
    "print(l1[:-1])"
   ]
  },
  {
   "cell_type": "code",
   "execution_count": 29,
   "id": "83076a16",
   "metadata": {},
   "outputs": [
    {
     "name": "stdout",
     "output_type": "stream",
     "text": [
      "[5]\n"
     ]
    }
   ],
   "source": [
    "# we should not give comma while slicing if given it will convert to tuple\n",
    "print(l1[-1:])"
   ]
  },
  {
   "cell_type": "code",
   "execution_count": 30,
   "id": "dc853e54",
   "metadata": {},
   "outputs": [],
   "source": [
    "# python is powerful garbage manner:\n",
    "# why we can handle all datatypes in list .\n",
    "l5 = [1,'jayant',10.10]\n",
    "t5 = (1,'jayant',10.1)\n",
    "l6 = [1,'jayant',10.1,(1,'jayant',10.10)]\n",
    "t6 = (1,'jayant',10.1,[1,'jayant',10.1])\n",
    "t7 = (t5,l5)"
   ]
  },
  {
   "cell_type": "code",
   "execution_count": 31,
   "id": "be673c1b",
   "metadata": {},
   "outputs": [
    {
     "name": "stdout",
     "output_type": "stream",
     "text": [
      "jayant\n"
     ]
    }
   ],
   "source": [
    "# nested / 2-d indexing\n",
    "print(t6[3][1])"
   ]
  },
  {
   "cell_type": "code",
   "execution_count": 32,
   "id": "5c621c73",
   "metadata": {},
   "outputs": [],
   "source": [
    "t8 = (1,2,3)"
   ]
  },
  {
   "cell_type": "code",
   "execution_count": 34,
   "id": "61a33f38",
   "metadata": {},
   "outputs": [],
   "source": [
    "# immutable - type error i.e. item assignment\n",
    "#t8[2] = 5"
   ]
  },
  {
   "cell_type": "code",
   "execution_count": 36,
   "id": "425a11e5",
   "metadata": {},
   "outputs": [],
   "source": [
    "l8 = [1,2,3]\n",
    "#l8[4]=6\n",
    "# out of range index"
   ]
  },
  {
   "cell_type": "code",
   "execution_count": null,
   "id": "6dbf989d",
   "metadata": {},
   "outputs": [],
   "source": [
    "# In this we learnt index slicing and we learnt that tuple is created only when we give comma after first element and if we give \n",
    "#only one element is parenthesis it is not tuple but it is only int.also we learnt nested indexing after that we learnt mutable \n",
    "#and immutable indexing.Then some errors are seen ."
   ]
  }
 ],
 "metadata": {
  "kernelspec": {
   "display_name": "Python 3 (ipykernel)",
   "language": "python",
   "name": "python3"
  },
  "language_info": {
   "codemirror_mode": {
    "name": "ipython",
    "version": 3
   },
   "file_extension": ".py",
   "mimetype": "text/x-python",
   "name": "python",
   "nbconvert_exporter": "python",
   "pygments_lexer": "ipython3",
   "version": "3.9.12"
  }
 },
 "nbformat": 4,
 "nbformat_minor": 5
}
