{
 "cells": [
  {
   "cell_type": "code",
   "execution_count": 3,
   "id": "842773c5",
   "metadata": {},
   "outputs": [],
   "source": [
    "# Creating a list with name and prn no \n",
    "a = ['Chaitanya Suryawanshi', 22070149009]"
   ]
  },
  {
   "cell_type": "code",
   "execution_count": 5,
   "id": "a753d431",
   "metadata": {},
   "outputs": [
    {
     "name": "stdout",
     "output_type": "stream",
     "text": [
      "['Chaitanya Suryawanshi', 22070149009]\n"
     ]
    }
   ],
   "source": [
    "print(a)"
   ]
  },
  {
   "cell_type": "code",
   "execution_count": 2,
   "id": "bcbea56c",
   "metadata": {},
   "outputs": [
    {
     "name": "stdout",
     "output_type": "stream",
     "text": [
      "Your password:········\n",
      "The password entered by you is incorrect..!!!\n"
     ]
    }
   ],
   "source": [
    "import getpass\n",
    " \n",
    "p = getpass.getpass(prompt='Your password:')\n",
    " \n",
    "if p == 'chai09':\n",
    "    print('Welcome..!!!')\n",
    "else:\n",
    "    print('The password entered by you is incorrect..!!!')"
   ]
  },
  {
   "cell_type": "code",
   "execution_count": null,
   "id": "36caee58",
   "metadata": {},
   "outputs": [],
   "source": []
  }
 ],
 "metadata": {
  "kernelspec": {
   "display_name": "Python 3 (ipykernel)",
   "language": "python",
   "name": "python3"
  },
  "language_info": {
   "codemirror_mode": {
    "name": "ipython",
    "version": 3
   },
   "file_extension": ".py",
   "mimetype": "text/x-python",
   "name": "python",
   "nbconvert_exporter": "python",
   "pygments_lexer": "ipython3",
   "version": "3.9.12"
  }
 },
 "nbformat": 4,
 "nbformat_minor": 5
}
