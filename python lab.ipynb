{
 "cells": [
  {
   "cell_type": "code",
   "execution_count": 1,
   "id": "d45aabf0",
   "metadata": {},
   "outputs": [],
   "source": [
    "# ARRAYS\n",
    "import array as arr"
   ]
  },
  {
   "cell_type": "code",
   "execution_count": 2,
   "id": "ea581a67",
   "metadata": {},
   "outputs": [
    {
     "data": {
      "text/plain": [
       "array('i', [1, 2, 3])"
      ]
     },
     "execution_count": 2,
     "metadata": {},
     "output_type": "execute_result"
    }
   ],
   "source": [
    "# creating array with integer type-\n",
    "a = arr.array('i',[1,2,3])\n",
    "a"
   ]
  },
  {
   "cell_type": "code",
   "execution_count": 3,
   "id": "2c322758",
   "metadata": {},
   "outputs": [
    {
     "name": "stdout",
     "output_type": "stream",
     "text": [
      "New created array is  1 2 3 \n"
     ]
    }
   ],
   "source": [
    "# printing original array-\n",
    "print(\"New created array is \",end=\" \")\n",
    "for i in range(0,3):\n",
    "    print(a[i],end=\" \")\n",
    "print()"
   ]
  },
  {
   "cell_type": "code",
   "execution_count": 4,
   "id": "cfe155a8",
   "metadata": {},
   "outputs": [
    {
     "data": {
      "text/plain": [
       "array('d', [1.2, 2.3, 3.4])"
      ]
     },
     "execution_count": 4,
     "metadata": {},
     "output_type": "execute_result"
    }
   ],
   "source": [
    "b = arr.array('d',[1.2,2.3,3.4])\n",
    "b"
   ]
  },
  {
   "cell_type": "code",
   "execution_count": 5,
   "id": "54cc6d77",
   "metadata": {},
   "outputs": [
    {
     "name": "stdout",
     "output_type": "stream",
     "text": [
      "New created array is  1.2 2.3 3.4 \n"
     ]
    }
   ],
   "source": [
    "# printing original array-\n",
    "print(\"New created array is \",end=\" \")\n",
    "for i in range(0,3):\n",
    "    print(b[i],end=\" \")\n",
    "print()"
   ]
  },
  {
   "cell_type": "code",
   "execution_count": 6,
   "id": "d8f0fbca",
   "metadata": {},
   "outputs": [
    {
     "name": "stdout",
     "output_type": "stream",
     "text": [
      "Array before insertion -  1 2 3 \n"
     ]
    }
   ],
   "source": [
    "# adding the element to array-\n",
    "print(\"Array before insertion - \",end=\" \")\n",
    "for i in range(0,3):\n",
    "    print(a[i],end=\" \")\n",
    "print()"
   ]
  },
  {
   "cell_type": "code",
   "execution_count": 9,
   "id": "0fae4847",
   "metadata": {},
   "outputs": [],
   "source": [
    "#insertion\n",
    "a.insert(1,4)"
   ]
  },
  {
   "cell_type": "code",
   "execution_count": 10,
   "id": "8419be68",
   "metadata": {},
   "outputs": [
    {
     "name": "stdout",
     "output_type": "stream",
     "text": [
      "1 4 2 3 \n"
     ]
    }
   ],
   "source": [
    "# array after insertion - \n",
    "for i in (a):\n",
    "    print(i,end=\" \")\n",
    "print()"
   ]
  },
  {
   "cell_type": "code",
   "execution_count": 11,
   "id": "68fde97d",
   "metadata": {},
   "outputs": [],
   "source": [
    "b.insert(2,4.5)"
   ]
  },
  {
   "cell_type": "code",
   "execution_count": 12,
   "id": "fcf25710",
   "metadata": {},
   "outputs": [
    {
     "name": "stdout",
     "output_type": "stream",
     "text": [
      "1.2 2.3 4.5 3.4 \n"
     ]
    }
   ],
   "source": [
    "# array after insertion:\n",
    "for i in (b):\n",
    "    print(i,end=\" \")\n",
    "print()"
   ]
  },
  {
   "cell_type": "code",
   "execution_count": 13,
   "id": "c48c4a7d",
   "metadata": {},
   "outputs": [
    {
     "data": {
      "text/plain": [
       "array('d', [1.2, 2.3, 4.5, 3.4, 4.4])"
      ]
     },
     "execution_count": 13,
     "metadata": {},
     "output_type": "execute_result"
    }
   ],
   "source": [
    "b.append(4.4)\n",
    "b"
   ]
  },
  {
   "cell_type": "code",
   "execution_count": 17,
   "id": "07b8b94a",
   "metadata": {},
   "outputs": [
    {
     "name": "stdout",
     "output_type": "stream",
     "text": [
      "Enter the number to insert into array 6\n"
     ]
    }
   ],
   "source": [
    "# accessing elements from array\n",
    "# remove elements from array \n",
    "# slice an array\n",
    "# search an element in an array\n",
    "c = int(input(\"Enter the number to insert into array \"))\n",
    "a.append(c)\n"
   ]
  },
  {
   "cell_type": "code",
   "execution_count": 18,
   "id": "274fcb7e",
   "metadata": {},
   "outputs": [
    {
     "data": {
      "text/plain": [
       "array('i', [1, 4, 2, 3, 5, 6])"
      ]
     },
     "execution_count": 18,
     "metadata": {},
     "output_type": "execute_result"
    }
   ],
   "source": [
    "a"
   ]
  },
  {
   "cell_type": "code",
   "execution_count": 19,
   "id": "4ea1857b",
   "metadata": {},
   "outputs": [
    {
     "data": {
      "text/plain": [
       "2"
      ]
     },
     "execution_count": 19,
     "metadata": {},
     "output_type": "execute_result"
    }
   ],
   "source": [
    "a[2] "
   ]
  },
  {
   "cell_type": "code",
   "execution_count": 21,
   "id": "afa4b12b",
   "metadata": {},
   "outputs": [],
   "source": [
    "a.remove(2)"
   ]
  },
  {
   "cell_type": "code",
   "execution_count": 22,
   "id": "f4c40b2b",
   "metadata": {},
   "outputs": [
    {
     "data": {
      "text/plain": [
       "array('i', [1, 4, 3, 5, 6])"
      ]
     },
     "execution_count": 22,
     "metadata": {},
     "output_type": "execute_result"
    }
   ],
   "source": [
    "a"
   ]
  },
  {
   "cell_type": "code",
   "execution_count": 23,
   "id": "04c6448e",
   "metadata": {},
   "outputs": [
    {
     "data": {
      "text/plain": [
       "array('i', [1, 3, 6])"
      ]
     },
     "execution_count": 23,
     "metadata": {},
     "output_type": "execute_result"
    }
   ],
   "source": [
    "a[ : :2]"
   ]
  },
  {
   "cell_type": "code",
   "execution_count": 24,
   "id": "d61d5bad",
   "metadata": {},
   "outputs": [
    {
     "data": {
      "text/plain": [
       "3"
      ]
     },
     "execution_count": 24,
     "metadata": {},
     "output_type": "execute_result"
    }
   ],
   "source": [
    "a[2]"
   ]
  },
  {
   "cell_type": "code",
   "execution_count": 3,
   "id": "f2211784",
   "metadata": {},
   "outputs": [
    {
     "name": "stdout",
     "output_type": "stream",
     "text": [
      "list elements are : [10, 20, 30, 40, 50]\n"
     ]
    }
   ],
   "source": [
    "# LISTS -\n",
    "list1 = [10,20,30,40,50]\n",
    "print(\"list elements are :\",list1)"
   ]
  },
  {
   "cell_type": "code",
   "execution_count": 4,
   "id": "008a5977",
   "metadata": {},
   "outputs": [
    {
     "name": "stdout",
     "output_type": "stream",
     "text": [
      "Element @ index 0 :  10\n",
      "Element @ index 1 :  20\n",
      "Element @ index 2 :  30\n",
      "Element @ index 3 :  40\n",
      "Element @ index 4 :  50\n"
     ]
    }
   ],
   "source": [
    "print(\"Element @ index 0 : \",list1[0])\n",
    "print(\"Element @ index 1 : \",list1[1])\n",
    "print(\"Element @ index 2 : \",list1[2])\n",
    "print(\"Element @ index 3 : \",list1[3])\n",
    "print(\"Element @ index 4 : \",list1[4])"
   ]
  },
  {
   "cell_type": "code",
   "execution_count": 5,
   "id": "04c99ea6",
   "metadata": {},
   "outputs": [
    {
     "name": "stdout",
     "output_type": "stream",
     "text": [
      "List elements are : ['New Delhi', 'Mumbai', 'Chennai', 'Kolkata']\n"
     ]
    }
   ],
   "source": [
    "# declaring list with string elements:\n",
    "list2 = [\"New Delhi\",\"Mumbai\",\"Chennai\",\"Kolkata\"]\n",
    "print(\"List elements are :\",list2)"
   ]
  },
  {
   "cell_type": "code",
   "execution_count": null,
   "id": "5481d14c",
   "metadata": {},
   "outputs": [],
   "source": [
    "# print(\"Element @ index 0 : \",list2[0])\n",
    "print(\"Element @ index 1 : \",list2[1])\n",
    "print(\"Element @ index 2 : \",list2[2])\n",
    "print(\"Element @ index 3 : \",list2[3])"
   ]
  },
  {
   "cell_type": "code",
   "execution_count": 10,
   "id": "3cff76dc",
   "metadata": {},
   "outputs": [
    {
     "data": {
      "text/plain": [
       "'Kolkata'"
      ]
     },
     "execution_count": 10,
     "metadata": {},
     "output_type": "execute_result"
    }
   ],
   "source": [
    "list2[3]"
   ]
  },
  {
   "cell_type": "code",
   "execution_count": 12,
   "id": "b35032ab",
   "metadata": {},
   "outputs": [
    {
     "name": "stdout",
     "output_type": "stream",
     "text": [
      "Elements in list 3 : ['Amit Shukla', 21, 'New Delhi', 9876789776, 5.34]\n"
     ]
    }
   ],
   "source": [
    "list3 = [\"Amit Shukla\",21,\"New Delhi\",9876789776,5.34]\n",
    "print(\"Elements in list 3 :\",list3)"
   ]
  },
  {
   "cell_type": "code",
   "execution_count": 13,
   "id": "73c23174",
   "metadata": {},
   "outputs": [
    {
     "name": "stdout",
     "output_type": "stream",
     "text": [
      "Element @ index 0 :  Amit Shukla\n",
      "Element @ index 1 :  21\n",
      "Element @ index 2 :  New Delhi\n",
      "Element @ index 3 :  9876789776\n",
      "Element @ index 3 :  5.34\n"
     ]
    }
   ],
   "source": [
    "print(\"Element @ index 0 : \",list3[0])\n",
    "print(\"Element @ index 1 : \",list3[1])\n",
    "print(\"Element @ index 2 : \",list3[2])\n",
    "print(\"Element @ index 3 : \",list3[3])\n",
    "print(\"Element @ index 3 : \",list3[4])"
   ]
  },
  {
   "cell_type": "code",
   "execution_count": 14,
   "id": "342f84de",
   "metadata": {},
   "outputs": [],
   "source": [
    "# list ,array ,tuple , statements(if-else) ,loops (for,while ,do while),\n",
    "# for each , we need to "
   ]
  },
  {
   "cell_type": "markdown",
   "id": "11cc88d5",
   "metadata": {},
   "source": [
    "# EXP 2: Python program to print list elements in different ways:"
   ]
  },
  {
   "cell_type": "code",
   "execution_count": 15,
   "id": "52ffac47",
   "metadata": {},
   "outputs": [
    {
     "name": "stdout",
     "output_type": "stream",
     "text": [
      "['Amit', 'Abhi', 'Radib', 21, 22, 37]\n",
      "Amit\n",
      "Amit 200\n",
      "['Radib', 21, 22]\n",
      "[200, 'Hello', 'World']\n",
      "[100, 200, 'Hello', 'World', 100, 200, 'Hello', 'World']\n",
      "['Amit', 'Abhi', 'Radib', 21, 22, 37, 100, 200, 'Hello', 'World']\n"
     ]
    }
   ],
   "source": [
    "list4 = [\"Amit\",\"Abhi\",\"Radib\",21,22,37]\n",
    "list5 = [100,200,\"Hello\",\"World\"]\n",
    "print(list4)\n",
    "print(list4[0])\n",
    "print(list4[0],list5[1])\n",
    "print(list4[2:5])\n",
    "print(list5[1:])\n",
    "print(list5*2)\n",
    "print(list4+list5)"
   ]
  },
  {
   "cell_type": "code",
   "execution_count": 16,
   "id": "793690b4",
   "metadata": {},
   "outputs": [],
   "source": [
    "# Adding , removing elements in the list\n",
    "list4.append(40)"
   ]
  },
  {
   "cell_type": "code",
   "execution_count": 17,
   "id": "2ee57f95",
   "metadata": {},
   "outputs": [],
   "source": [
    "list6 : [\"Chaitanya\",22,\"B.tech\"]"
   ]
  },
  {
   "cell_type": "code",
   "execution_count": 18,
   "id": "37a98ba6",
   "metadata": {},
   "outputs": [
    {
     "data": {
      "text/plain": [
       "40"
      ]
     },
     "execution_count": 18,
     "metadata": {},
     "output_type": "execute_result"
    }
   ],
   "source": [
    "list4.pop()"
   ]
  },
  {
   "cell_type": "code",
   "execution_count": 19,
   "id": "eaebb095",
   "metadata": {},
   "outputs": [
    {
     "data": {
      "text/plain": [
       "['Amit', 'Abhi', 'Radib', 21, 22, 37]"
      ]
     },
     "execution_count": 19,
     "metadata": {},
     "output_type": "execute_result"
    }
   ],
   "source": [
    "list4"
   ]
  },
  {
   "cell_type": "code",
   "execution_count": 20,
   "id": "edd7fd68",
   "metadata": {},
   "outputs": [
    {
     "name": "stdout",
     "output_type": "stream",
     "text": [
      "Initial empty tuple :\n",
      "()\n"
     ]
    }
   ],
   "source": [
    "# Tuples -\n",
    "tuple1 = ()\n",
    "print(\"Initial empty tuple :\")\n",
    "print(tuple1)"
   ]
  },
  {
   "cell_type": "code",
   "execution_count": 21,
   "id": "74bea18b",
   "metadata": {},
   "outputs": [
    {
     "name": "stdout",
     "output_type": "stream",
     "text": [
      "\n",
      " Tuple with the use of string :\n",
      "('Saurabh', 'SIT')\n"
     ]
    }
   ],
   "source": [
    "#  creating the tuple with use of string\n",
    "tuple1 = (\"Saurabh\",\"SIT\")\n",
    "print(\"\\n Tuple with the use of string :\")\n",
    "print(tuple1)"
   ]
  },
  {
   "cell_type": "code",
   "execution_count": 22,
   "id": "130164a7",
   "metadata": {},
   "outputs": [
    {
     "name": "stdout",
     "output_type": "stream",
     "text": [
      "\n",
      "Tuple using list : \n",
      "(1, 2, 3, 4, 5)\n"
     ]
    }
   ],
   "source": [
    "list1 = [1,2,3,4,5]\n",
    "print(\"\\nTuple using list : \")\n",
    "print(tuple(list1))"
   ]
  },
  {
   "cell_type": "code",
   "execution_count": 23,
   "id": "9039db93",
   "metadata": {},
   "outputs": [
    {
     "name": "stdout",
     "output_type": "stream",
     "text": [
      "\n",
      "Tuple with the use function : \n",
      "('S', 'y', 'm', 'b', 'i', 'o', 's', 'i', 's')\n"
     ]
    }
   ],
   "source": [
    "# creating a tuple with the use of built in function \n",
    "tuple2 = tuple('Symbiosis')\n",
    "print(\"\\nTuple with the use function : \")\n",
    "print(tuple2)"
   ]
  },
  {
   "cell_type": "code",
   "execution_count": 24,
   "id": "c73b3cb5",
   "metadata": {},
   "outputs": [
    {
     "name": "stdout",
     "output_type": "stream",
     "text": [
      "\n",
      " Tuple with Mixed datatype :  (5, 'welcome', 7, 2.5, 'SIT')\n"
     ]
    }
   ],
   "source": [
    "# creating a tuple with mixed datatype\n",
    "tuple2 = (5,'welcome',7,2.5,'SIT')\n",
    "print(\"\\n Tuple with Mixed datatype : \",tuple2)"
   ]
  },
  {
   "cell_type": "code",
   "execution_count": 33,
   "id": "988eefa8",
   "metadata": {},
   "outputs": [
    {
     "name": "stdout",
     "output_type": "stream",
     "text": [
      "\n",
      " Tuple with nested tuples :  (0, 1, 2, 3, 'python', 'M.tech')\n"
     ]
    }
   ],
   "source": [
    "# creating a tuple with nested tuple -\n",
    "tuple3=(0,1,2,3)\n",
    "tuple4 = (\"python\",\"M.tech\")\n",
    "tuple0 = (tuple3+tuple4)\n",
    "print(\"\\n Tuple with nested tuples : \",tuple0)"
   ]
  },
  {
   "cell_type": "code",
   "execution_count": 27,
   "id": "47424c90",
   "metadata": {},
   "outputs": [
    {
     "name": "stdout",
     "output_type": "stream",
     "text": [
      "\n",
      " Tuple with repetation :  ('Saurabh', 'Chaitanya', 'Saurabh', 'Chaitanya', 'Saurabh', 'Chaitanya')\n"
     ]
    }
   ],
   "source": [
    "# creating a tuple with repetation\n",
    "tuple5 = (\"Saurabh\",\"Chaitanya\")*3\n",
    "print(\"\\n Tuple with repetation : \",tuple5)\n"
   ]
  },
  {
   "cell_type": "code",
   "execution_count": 28,
   "id": "3c302588",
   "metadata": {},
   "outputs": [
    {
     "name": "stdout",
     "output_type": "stream",
     "text": [
      "\n",
      " tuple with a loop :\n",
      "('SIT',)\n",
      "(('SIT',),)\n",
      "((('SIT',),),)\n",
      "(((('SIT',),),),)\n",
      "((((('SIT',),),),),)\n"
     ]
    }
   ],
   "source": [
    "# creating a tuple with use of tuple :\n",
    "tuple6 = ('SIT')\n",
    "n=5\n",
    "print(\"\\n tuple with a loop :\")\n",
    "for i in range(int(n)):\n",
    "    tuple6 = (tuple6,)\n",
    "    print(tuple6)"
   ]
  },
  {
   "cell_type": "code",
   "execution_count": 30,
   "id": "e7c2932d",
   "metadata": {},
   "outputs": [
    {
     "name": "stdout",
     "output_type": "stream",
     "text": [
      "\n",
      " First element of tuple is : Saurabh\n"
     ]
    }
   ],
   "source": [
    "# accessing the tuple:\n",
    "print(\"\\n First element of tuple is :\",tuple5[0])"
   ]
  },
  {
   "cell_type": "code",
   "execution_count": 31,
   "id": "3cda50b0",
   "metadata": {},
   "outputs": [
    {
     "name": "stdout",
     "output_type": "stream",
     "text": [
      "\n",
      " The values after unpacking: \n",
      "Symbiosis\n",
      "SIT\n",
      "M.tech\n"
     ]
    }
   ],
   "source": [
    "tuple7 = ('Symbiosis','SIT',\"M.tech\")\n",
    "a,b,c = tuple7\n",
    "print(\"\\n The values after unpacking: \")\n",
    "print(a)\n",
    "print(b)\n",
    "print(c)"
   ]
  },
  {
   "cell_type": "code",
   "execution_count": 34,
   "id": "c268a87d",
   "metadata": {},
   "outputs": [
    {
     "data": {
      "text/plain": [
       "(0, 1, 2, 3, 'python', 'M.tech')"
      ]
     },
     "execution_count": 34,
     "metadata": {},
     "output_type": "execute_result"
    }
   ],
   "source": [
    "# concatenation of tuples -\n",
    "tuple0 = tuple3+tuple4\n",
    "tuple0"
   ]
  },
  {
   "cell_type": "code",
   "execution_count": 35,
   "id": "23bd8d26",
   "metadata": {},
   "outputs": [
    {
     "name": "stdout",
     "output_type": "stream",
     "text": [
      "\n",
      " First tuple : (0, 1, 2, 3)\n",
      "\n",
      " second tuple :  ('python', 'M.tech')\n",
      "\n",
      " Tuple after concatenation : (0, 1, 2, 3, 'python', 'M.tech')\n"
     ]
    }
   ],
   "source": [
    "print(\"\\n First tuple :\",tuple3)\n",
    "print(\"\\n second tuple : \",tuple4)\n",
    "print(\"\\n Tuple after concatenation :\", tuple0)\n"
   ]
  },
  {
   "cell_type": "code",
   "execution_count": 39,
   "id": "b5c094a0",
   "metadata": {},
   "outputs": [
    {
     "name": "stdout",
     "output_type": "stream",
     "text": [
      "('h', 'a', 'i', 't', 'a', 'n', 'y', 'a', 's', 'u', 'r', 'y', 'a', 'w', 'a', 'n', 's', 'h', 'i')\n",
      "('i', 'h', 's', 'n', 'a', 'w', 'a', 'y', 'r', 'u', 's', 'a', 'y', 'n', 'a', 't', 'i', 'a', 'h', 'c')\n",
      "('t', 'a', 'n', 'y', 'a')\n"
     ]
    }
   ],
   "source": [
    "# slicing the tuple with numbers :\n",
    "tuple8 = tuple('chaitanyasuryawanshi')\n",
    "print(tuple8[1::])\n",
    "print(tuple8[::-1])\n",
    "print(tuple8[4:9])"
   ]
  },
  {
   "cell_type": "markdown",
   "id": "4817205e",
   "metadata": {},
   "source": [
    "list ,array ,tuple , statements(if-else) ,loops (for,while ,do while),# "
   ]
  },
  {
   "cell_type": "code",
   "execution_count": 1,
   "id": "6a09d6db",
   "metadata": {},
   "outputs": [
    {
     "name": "stdout",
     "output_type": "stream",
     "text": [
      "Enter the number of rows5\n",
      "* \n",
      "* * \n",
      "* * * \n",
      "* * * * \n",
      "* * * * * \n"
     ]
    }
   ],
   "source": [
    "# This is the example of print simple pyramid pattern  \n",
    "n = int(input(\"Enter the number of rows\"))  \n",
    "# outer loop to handle number of rows  \n",
    "for i in range(0, n):  \n",
    "    # inner loop to handle number of columns  \n",
    "    # values is changing according to outer loop  \n",
    "        for j in range(0, i + 1):  \n",
    "            # printing stars  \n",
    "            print(\"* \", end=\"\")       \n",
    "  \n",
    "        # ending line after each row  \n",
    "        print()  "
   ]
  },
  {
   "cell_type": "code",
   "execution_count": 2,
   "id": "39060dbb",
   "metadata": {},
   "outputs": [
    {
     "name": "stdout",
     "output_type": "stream",
     "text": [
      "Enter the number of rows:5\n",
      "        * \n",
      "      * * \n",
      "    * * * \n",
      "  * * * * \n",
      "* * * * * \n"
     ]
    }
   ],
   "source": [
    "# This is the example of print simple reversed right angle pyramid pattern  \n",
    "rows = int(input(\"Enter the number of rows:\"))  \n",
    "k = 2 * rows - 2  # It is used for number of spaces  \n",
    "for i in range(0, rows):  \n",
    "    for j in range(0, k):  \n",
    "        print(end=\" \")  \n",
    "    k = k - 2   # decrement k value after each iteration  \n",
    "    for j in range(0, i + 1):  \n",
    "        print(\"* \", end=\"\")  # printing star  \n",
    "    print(\"\")  "
   ]
  },
  {
   "cell_type": "code",
   "execution_count": 3,
   "id": "24d6fbd8",
   "metadata": {},
   "outputs": [
    {
     "name": "stdout",
     "output_type": "stream",
     "text": [
      "Enter the first number- 5\n",
      "Enter the second number- 7\n",
      "Enter the third number- 9\n",
      "z is greater than both numbers\n"
     ]
    }
   ],
   "source": [
    "x = int(input(\"Enter the first number- \"))\n",
    "y = int(input(\"Enter the second number- \"))\n",
    "z = int(input(\"Enter the third number- \"))\n",
    "if x>y>z:\n",
    "  print(\"x is greater than both the numbers\")\n",
    "elif y>x>z:\n",
    "  print(\"y is greater than both numbers \")\n",
    "else :\n",
    "  print(\"z is greater than both numbers\")"
   ]
  },
  {
   "cell_type": "code",
   "execution_count": 4,
   "id": "c84517b6",
   "metadata": {},
   "outputs": [
    {
     "name": "stdout",
     "output_type": "stream",
     "text": [
      "Enter the number upto which you want to sum - 4567\n",
      "10426461\n"
     ]
    }
   ],
   "source": [
    "# Write a program to add sum of n numbers in series -(1+2+3+...n)\n",
    "n = int(input(\"Enter the number upto which you want to sum - \"))\n",
    "sum = 0\n",
    "for i in range(n):\n",
    "  sum = sum + i\n",
    "  i=i+1\n",
    "print(sum)\n"
   ]
  },
  {
   "cell_type": "code",
   "execution_count": 5,
   "id": "a9c10613",
   "metadata": {},
   "outputs": [
    {
     "name": "stdout",
     "output_type": "stream",
     "text": [
      "Enter a number:1234\n",
      "Not a palindrome!\n"
     ]
    }
   ],
   "source": [
    "# Program to check whether the number is palindrom-\n",
    "num=int(input(\"Enter a number:\"))\n",
    "temp=num\n",
    "rev=0\n",
    "while(num>0):\n",
    "    dig=num%10\n",
    "    rev=rev*10+dig\n",
    "    num=num//10\n",
    "if(temp==rev):\n",
    "    print(\"The number is palindrome!\")\n",
    "else:\n",
    "    print(\"Not a palindrome!\")"
   ]
  },
  {
   "cell_type": "markdown",
   "id": "602f7c2c",
   "metadata": {},
   "source": [
    "# SETS"
   ]
  },
  {
   "cell_type": "code",
   "execution_count": 1,
   "id": "994adcee",
   "metadata": {
    "scrolled": true
   },
   "outputs": [
    {
     "name": "stdout",
     "output_type": "stream",
     "text": [
      "Union of E and F is  {2, 4}\n",
      "Intersection of E and F is  {0, 1, 2, 3, 4, 5, 6, 8}\n",
      "Difference of E and F is  {0, 8, 6}\n",
      "Symmetric differnec of E and F is  {0, 1, 3, 5, 6, 8}\n"
     ]
    }
   ],
   "source": [
    "E = {0,2,4,6,8}\n",
    "F = {1,2,3,4,5}\n",
    "print(\"Union of E and F is \",E & F)\n",
    "print(\"Intersection of E and F is \",E | F)\n",
    "print(\"Difference of E and F is \",E - F)\n",
    "print(\"Symmetric differnec of E and F is \",E ^ F)"
   ]
  },
  {
   "cell_type": "markdown",
   "id": "06fff798",
   "metadata": {},
   "source": [
    "# Dictionaries"
   ]
  },
  {
   "cell_type": "code",
   "execution_count": 3,
   "id": "4faa5a25",
   "metadata": {},
   "outputs": [
    {
     "name": "stdout",
     "output_type": "stream",
     "text": [
      "\n",
      "Dictionary with the use of mixed keys: \n",
      "{1: 'M.tech', 2: 'For', 3: 'AIML'}\n"
     ]
    }
   ],
   "source": [
    "dict = {1:'M.tech',2:'For',3:'AIML'}\n",
    "print('\\nDictionary with the use of mixed keys: ')\n",
    "print(dict)"
   ]
  },
  {
   "cell_type": "code",
   "execution_count": 5,
   "id": "b1a39fef",
   "metadata": {},
   "outputs": [
    {
     "name": "stdout",
     "output_type": "stream",
     "text": [
      "\n",
      "Dictionary with the use of mixed keys: \n",
      "{'Name': 'Chaitanya', 1: [1, 2, 3, 4]}\n"
     ]
    }
   ],
   "source": [
    "dict1 = {'Name':'Chaitanya',1:[1,2,3,4]}\n",
    "print(\"\\nDictionary with the use of mixed keys: \")\n",
    "print(dict1)"
   ]
  },
  {
   "cell_type": "code",
   "execution_count": 6,
   "id": "d24ba1b5",
   "metadata": {},
   "outputs": [
    {
     "name": "stdout",
     "output_type": "stream",
     "text": [
      "Empty Dictionary: \n",
      "{}\n"
     ]
    }
   ],
   "source": [
    "dict2 ={}\n",
    "print(\"Empty Dictionary: \")\n",
    "print(dict2)"
   ]
  },
  {
   "cell_type": "code",
   "execution_count": 10,
   "id": "85a1f173",
   "metadata": {},
   "outputs": [
    {
     "ename": "TypeError",
     "evalue": "'dict' object is not callable",
     "output_type": "error",
     "traceback": [
      "\u001b[1;31m---------------------------------------------------------------------------\u001b[0m",
      "\u001b[1;31mTypeError\u001b[0m                                 Traceback (most recent call last)",
      "Input \u001b[1;32mIn [10]\u001b[0m, in \u001b[0;36m<cell line: 1>\u001b[1;34m()\u001b[0m\n\u001b[1;32m----> 1\u001b[0m dict3 \u001b[38;5;241m=\u001b[39m \u001b[38;5;28;43mdict\u001b[39;49m\u001b[43m(\u001b[49m\u001b[43m{\u001b[49m\u001b[38;5;241;43m1\u001b[39;49m\u001b[43m:\u001b[49m\u001b[38;5;124;43m\"\u001b[39;49m\u001b[38;5;124;43mM.tech\u001b[39;49m\u001b[38;5;124;43m\"\u001b[39;49m\u001b[43m,\u001b[49m\u001b[38;5;241;43m2\u001b[39;49m\u001b[43m:\u001b[49m\u001b[38;5;124;43m\"\u001b[39;49m\u001b[38;5;124;43mFor\u001b[39;49m\u001b[38;5;124;43m\"\u001b[39;49m\u001b[43m,\u001b[49m\u001b[38;5;241;43m3\u001b[39;49m\u001b[43m:\u001b[49m\u001b[38;5;124;43m\"\u001b[39;49m\u001b[38;5;124;43mAIML\u001b[39;49m\u001b[38;5;124;43m\"\u001b[39;49m\u001b[43m}\u001b[49m\u001b[43m)\u001b[49m\n",
      "\u001b[1;31mTypeError\u001b[0m: 'dict' object is not callable"
     ]
    }
   ],
   "source": [
    "dict3 = dict({1:\"M.tech\",2:\"For\",3:\"AIML\"})"
   ]
  },
  {
   "cell_type": "code",
   "execution_count": 11,
   "id": "5b88b569",
   "metadata": {},
   "outputs": [
    {
     "ename": "TypeError",
     "evalue": "'dict' object is not callable",
     "output_type": "error",
     "traceback": [
      "\u001b[1;31m---------------------------------------------------------------------------\u001b[0m",
      "\u001b[1;31mTypeError\u001b[0m                                 Traceback (most recent call last)",
      "Input \u001b[1;32mIn [11]\u001b[0m, in \u001b[0;36m<cell line: 2>\u001b[1;34m()\u001b[0m\n\u001b[0;32m      1\u001b[0m \u001b[38;5;66;03m# creating dictionary with each item as a pair \u001b[39;00m\n\u001b[1;32m----> 2\u001b[0m dict4 \u001b[38;5;241m=\u001b[39m \u001b[38;5;28;43mdict\u001b[39;49m\u001b[43m(\u001b[49m\u001b[43m[\u001b[49m\u001b[43m(\u001b[49m\u001b[38;5;241;43m1\u001b[39;49m\u001b[43m,\u001b[49m\u001b[38;5;124;43m'\u001b[39;49m\u001b[38;5;124;43mSIT\u001b[39;49m\u001b[38;5;124;43m'\u001b[39;49m\u001b[43m)\u001b[49m\u001b[43m,\u001b[49m\u001b[43m(\u001b[49m\u001b[38;5;241;43m2\u001b[39;49m\u001b[43m,\u001b[49m\u001b[38;5;124;43m'\u001b[39;49m\u001b[38;5;124;43mPUNE\u001b[39;49m\u001b[38;5;124;43m'\u001b[39;49m\u001b[43m)\u001b[49m\u001b[43m]\u001b[49m\u001b[43m)\u001b[49m\n\u001b[0;32m      3\u001b[0m \u001b[38;5;28mprint\u001b[39m(\u001b[38;5;124m\"\u001b[39m\u001b[38;5;130;01m\\n\u001b[39;00m\u001b[38;5;124mDictionary with each item as a pair: \u001b[39m\u001b[38;5;124m\"\u001b[39m)\n\u001b[0;32m      4\u001b[0m \u001b[38;5;28mprint\u001b[39m(dict4)\n",
      "\u001b[1;31mTypeError\u001b[0m: 'dict' object is not callable"
     ]
    }
   ],
   "source": [
    "# creating dictionary with each item as a pair \n",
    "dict4 = dict([(1,'SIT'),(2,'PUNE')])\n",
    "print(\"\\nDictionary with each item as a pair: \")\n",
    "print(dict4)"
   ]
  },
  {
   "cell_type": "code",
   "execution_count": 13,
   "id": "e981688f",
   "metadata": {},
   "outputs": [
    {
     "data": {
      "text/plain": [
       "{1: 'SIT', 2: 'Pune', 3: {'A': 'Welcome', 'B': 'to', 'c': 'M.tech'}}"
      ]
     },
     "execution_count": 13,
     "metadata": {},
     "output_type": "execute_result"
    }
   ],
   "source": [
    "# creating a nested dictionary\n",
    "dict5 = {1:\"SIT\",2:\"Pune\",3:{'A':'Welcome','B':'to','c':'M.tech'}}\n",
    "dict5"
   ]
  },
  {
   "cell_type": "code",
   "execution_count": 14,
   "id": "d2f7078c",
   "metadata": {},
   "outputs": [
    {
     "name": "stdout",
     "output_type": "stream",
     "text": [
      "\n",
      "Dictionary after adding elemnts is :\n",
      "{0: 'SIT', 2: 'PUNE', 3: 1}\n"
     ]
    }
   ],
   "source": [
    "# adding elements to empty dictionary \n",
    "dict2[0]='SIT'\n",
    "dict2[2]='PUNE'\n",
    "dict2[3]=1\n",
    "print('\\nDictionary after adding elemnts is :')\n",
    "print(dict2)"
   ]
  },
  {
   "cell_type": "code",
   "execution_count": 15,
   "id": "f28096c1",
   "metadata": {},
   "outputs": [
    {
     "name": "stdout",
     "output_type": "stream",
     "text": [
      "{0: 'SIT', 2: 'PUNE', 3: 1, 'Value_set': (2, 4, 3)}\n"
     ]
    }
   ],
   "source": [
    "# adding values to single key\n",
    "dict2['Value_set']=2,4,3\n",
    "print(dict2)"
   ]
  },
  {
   "cell_type": "code",
   "execution_count": 16,
   "id": "98dbc0fb",
   "metadata": {},
   "outputs": [
    {
     "data": {
      "text/plain": [
       "{0: 'SIT', 2: 'Welcome', 3: 1, 'Value_set': (2, 4, 3)}"
      ]
     },
     "execution_count": 16,
     "metadata": {},
     "output_type": "execute_result"
    }
   ],
   "source": [
    "# updating dictionary \n",
    "dict2[2]='Welcome'\n",
    "dict2"
   ]
  },
  {
   "cell_type": "code",
   "execution_count": 19,
   "id": "87ef91a3",
   "metadata": {},
   "outputs": [
    {
     "data": {
      "text/plain": [
       "'M.tech'"
      ]
     },
     "execution_count": 19,
     "metadata": {},
     "output_type": "execute_result"
    }
   ],
   "source": [
    "#Accessing element using key \n",
    "dict[1]"
   ]
  },
  {
   "cell_type": "code",
   "execution_count": 24,
   "id": "69e2592a",
   "metadata": {},
   "outputs": [],
   "source": [
    "dict6 =dict.copy()"
   ]
  },
  {
   "cell_type": "code",
   "execution_count": 25,
   "id": "dcccf51b",
   "metadata": {},
   "outputs": [
    {
     "data": {
      "text/plain": [
       "{1: 'M.tech', 2: 'For', 3: 'AIML'}"
      ]
     },
     "execution_count": 25,
     "metadata": {},
     "output_type": "execute_result"
    }
   ],
   "source": [
    "dict6"
   ]
  },
  {
   "cell_type": "code",
   "execution_count": 26,
   "id": "3b73cd14",
   "metadata": {},
   "outputs": [],
   "source": [
    "dict1.clear()"
   ]
  },
  {
   "cell_type": "code",
   "execution_count": 27,
   "id": "f4faad7d",
   "metadata": {},
   "outputs": [
    {
     "data": {
      "text/plain": [
       "{}"
      ]
     },
     "execution_count": 27,
     "metadata": {},
     "output_type": "execute_result"
    }
   ],
   "source": [
    "dict1"
   ]
  },
  {
   "cell_type": "code",
   "execution_count": 1,
   "id": "e5fa19e4",
   "metadata": {},
   "outputs": [
    {
     "name": "stdout",
     "output_type": "stream",
     "text": [
      "Rodger is a mammal\n",
      "Tommy is also a mammal\n",
      "My name is Rodger\n",
      "My name is Tommy\n"
     ]
    }
   ],
   "source": [
    "# Object Oriented programming\n",
    "\n",
    "# Example 1 :Creating a class and object with class and instance attributes \n",
    "class Dog:\n",
    " \n",
    "    # class attribute\n",
    "    attr1 = \"mammal\"\n",
    " \n",
    "    # Instance attribute\n",
    "    def __init__(self, name):\n",
    "        self.name = name\n",
    " \n",
    "# Driver code\n",
    "# Object instantiation\n",
    "Rodger = Dog(\"Rodger\")\n",
    "Tommy = Dog(\"Tommy\")\n",
    " \n",
    "# Accessing class attributes\n",
    "print(\"Rodger is a {}\".format(Rodger.__class__.attr1))\n",
    "print(\"Tommy is also a {}\".format(Tommy.__class__.attr1))\n",
    " \n",
    "# Accessing instance attributes\n",
    "print(\"My name is {}\".format(Rodger.name))\n",
    "print(\"My name is {}\".format(Tommy.name))"
   ]
  },
  {
   "cell_type": "code",
   "execution_count": 2,
   "id": "2b1c590f",
   "metadata": {},
   "outputs": [
    {
     "name": "stdout",
     "output_type": "stream",
     "text": [
      "My name is Rodger\n",
      "My name is Tommy\n"
     ]
    }
   ],
   "source": [
    "# Example 2 : Creating Class and objects with methods\n",
    "class Dog:\n",
    " \n",
    "    # class attribute\n",
    "    attr1 = \"mammal\"\n",
    " \n",
    "    # Instance attribute\n",
    "    def __init__(self, name):\n",
    "        self.name = name\n",
    "         \n",
    "    def speak(self):\n",
    "        print(\"My name is {}\".format(self.name))\n",
    " \n",
    "# Driver code\n",
    "# Object instantiation\n",
    "Rodger = Dog(\"Rodger\")\n",
    "Tommy = Dog(\"Tommy\")\n",
    " \n",
    "# Accessing class methods\n",
    "Rodger.speak()\n",
    "Tommy.speak()"
   ]
  },
  {
   "cell_type": "code",
   "execution_count": 2,
   "id": "4fd7ecbe",
   "metadata": {},
   "outputs": [],
   "source": [
    "import pandas as pd\n",
    "import numpy as np\n",
    "import matplotlib.pyplot as plt\n",
    "import seaborn as sns \n"
   ]
  },
  {
   "cell_type": "code",
   "execution_count": 3,
   "id": "0bada217",
   "metadata": {},
   "outputs": [],
   "source": [
    "df = pd.read_csv(\"C:/Users/chait/Downloads/Immunotherapy.csv\")"
   ]
  },
  {
   "cell_type": "code",
   "execution_count": 4,
   "id": "7e4964d8",
   "metadata": {},
   "outputs": [],
   "source": [
    "X = df.iloc[:,0:3]\n",
    "Y = df.iloc[:,-1]"
   ]
  },
  {
   "cell_type": "code",
   "execution_count": 5,
   "id": "325076e2",
   "metadata": {},
   "outputs": [
    {
     "data": {
      "text/plain": [
       "<Figure size 432x288 with 0 Axes>"
      ]
     },
     "execution_count": 5,
     "metadata": {},
     "output_type": "execute_result"
    },
    {
     "data": {
      "text/plain": [
       "<Figure size 432x288 with 0 Axes>"
      ]
     },
     "metadata": {},
     "output_type": "display_data"
    }
   ],
   "source": [
    "plt.figure()"
   ]
  },
  {
   "cell_type": "code",
   "execution_count": 9,
   "id": "9124c944",
   "metadata": {},
   "outputs": [
    {
     "data": {
      "image/png": "[encoded data removed]",
      "text/plain": [
       "<Figure size 432x288 with 4 Axes>"
      ]
     },
     "metadata": {
      "needs_background": "light"
     },
     "output_type": "display_data"
    }
   ],
   "source": [
    "#ax = plt.subplots(4,4,sharex=True,sharey=True)\n",
    "X.hist()\n",
    "plt.show()"
   ]
  },
  {
   "cell_type": "code",
   "execution_count": 12,
   "id": "dfd699b6",
   "metadata": {},
   "outputs": [
    {
     "data": {
      "text/plain": [
       "(-10.0, 200.0)"
      ]
     },
     "execution_count": 12,
     "metadata": {},
     "output_type": "execute_result"
    },
    {
     "data": {
      "image/png": "[encoded data removed]",
      "text/plain": [
       "<Figure size 432x288 with 1 Axes>"
      ]
     },
     "metadata": {
      "needs_background": "light"
     },
     "output_type": "display_data"
    }
   ],
   "source": [
    "z  = X.plot(kind='box',subplots = False, layout= (2,2),sharex=False,sharey=False,patch_artist=True)\n",
    "plt.ylim((-10,200))"
   ]
  },
  {
   "cell_type": "code",
   "execution_count": 15,
   "id": "27a1c1db",
   "metadata": {},
   "outputs": [
    {
     "data": {
      "image/png": "[encoded data removed]",
      "text/plain": [
       "<Figure size 432x288 with 2 Axes>"
      ]
     },
     "metadata": {
      "needs_background": "light"
     },
     "output_type": "display_data"
    }
   ],
   "source": [
    "X=df.iloc[:,0:7]\n",
    "Y=df.iloc[:,7]\n",
    "name=['sex','age','Time','Number_of_Warts','Type','Area,induration_diameter','Result_of_Treatment']\n",
    "correlations = X.corr()\n",
    "# plot correlation matrix\n",
    "fig = plt.figure()\n",
    "ax = fig.add_subplot(111)\n",
    "cax = ax.matshow(correlations, vmin=-1, vmax=1)\n",
    "fig.colorbar(cax)\n",
    "ticks = np.arange(0,7,1)\n",
    "ax.set_xticks(ticks)\n",
    "ax.set_yticks(ticks)\n",
    "ax.set_xticklabels(name)\n",
    "plt.xticks(rotation=75)\n",
    "ax.set_yticklabels(name)\n",
    "plt.show()"
   ]
  },
  {
   "cell_type": "code",
   "execution_count": null,
   "id": "898355ca",
   "metadata": {},
   "outputs": [],
   "source": []
  }
 ],
 "metadata": {
  "kernelspec": {
   "display_name": "Python 3 (ipykernel)",
   "language": "python",
   "name": "python3"
  },
  "language_info": {
   "codemirror_mode": {
    "name": "ipython",
    "version": 3
   },
   "file_extension": ".py",
   "mimetype": "text/x-python",
   "name": "python",
   "nbconvert_exporter": "python",
   "pygments_lexer": "ipython3",
   "version": "3.9.12"
  }
 },
 "nbformat": 4,
 "nbformat_minor": 5
}
