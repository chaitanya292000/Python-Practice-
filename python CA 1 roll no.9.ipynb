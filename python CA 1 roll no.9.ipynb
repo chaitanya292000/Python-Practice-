{
 "cells": [
  {
   "cell_type": "code",
   "execution_count": 1,
   "id": "ad0ac5ef",
   "metadata": {},
   "outputs": [],
   "source": [
    "# Array :"
   ]
  },
  {
   "cell_type": "code",
   "execution_count": 7,
   "id": "3ad13a15",
   "metadata": {},
   "outputs": [
    {
     "name": "stdout",
     "output_type": "stream",
     "text": [
      "Original array:\n",
      "10 11 12 13 14 16 17 18 19 20 \n",
      "Missing number in the said array (10-20):  15\n"
     ]
    }
   ],
   "source": [
    "# Find the missing number in a given array of numbers between 10 and 20\n",
    "import array as arr\n",
    "def test(nums):\n",
    "    return sum(range(10, 21)) - sum(list(nums))\n",
    "\n",
    "array_num = arr.array('i', [10, 11, 12, 13, 14, 16, 17, 18, 19, 20])\n",
    "print(\"Original array:\")\n",
    "for i in range(len(array_num)):    \n",
    "    print(array_num[i], end=' ')\n",
    "print(\"\\nMissing number in the said array (10-20): \",test(array_num))"
   ]
  },
  {
   "cell_type": "code",
   "execution_count": 6,
   "id": "21df0cfe",
   "metadata": {},
   "outputs": [
    {
     "name": "stdout",
     "output_type": "stream",
     "text": [
      "Original array:\n",
      "1 3 5 1 3 7 9 \n",
      "After removing duplicate elements from the said array:\n",
      "1 3 5 7 9 "
     ]
    }
   ],
   "source": [
    "import array as arr\n",
    "def test(nums):\n",
    "    return sorted(set(nums),key=nums.index)\n",
    "\n",
    "array_num = arr.array('i', [1, 3, 5, 1, 3, 7, 9])\n",
    "print(\"Original array:\")\n",
    "for i in range(len(array_num)):    \n",
    "    print(array_num[i], end=' ')\n",
    "print(\"\\nAfter removing duplicate elements from the said array:\")\n",
    "result = arr.array('i', test(array_num))\n",
    "for i in range(len(result)):    \n",
    "    print(result[i], end=' ')"
   ]
  },
  {
   "cell_type": "code",
   "execution_count": 1,
   "id": "39544daa",
   "metadata": {},
   "outputs": [],
   "source": [
    "# lists"
   ]
  },
  {
   "cell_type": "code",
   "execution_count": 12,
   "id": "e4c07dfe",
   "metadata": {},
   "outputs": [
    {
     "name": "stdout",
     "output_type": "stream",
     "text": [
      "[30, 44, 50, 95, 52]\n"
     ]
    }
   ],
   "source": [
    "# filtering the list with the heplt of filter()\n",
    "def my_filter(n):\n",
    "    if n > 20:\n",
    "        return n\n",
    "if __name__ == \"__main__\":\n",
    "    my_list = [8, 2, 30, 44, 50, 2, 95, 52]\n",
    "    my_filtered_list = list(filter(my_filter, my_list))\n",
    "    print(my_filtered_list)"
   ]
  },
  {
   "cell_type": "code",
   "execution_count": 10,
   "id": "5e7daf85",
   "metadata": {},
   "outputs": [
    {
     "name": "stdout",
     "output_type": "stream",
     "text": [
      "[1, 4, 9, 16, 25, 36, 49, 64]\n"
     ]
    }
   ],
   "source": [
    "# Using map function to modify the list\n",
    "def squaring(n):\n",
    "    return n**2\n",
    " \n",
    "if __name__ == \"__main__\":\n",
    "    my_list = [1, 2, 3, 4, 5, 6, 7, 8]\n",
    " \n",
    "    my_squared_list = list(map(squaring, my_list))\n",
    "    print(my_squared_list)"
   ]
  },
  {
   "cell_type": "code",
   "execution_count": 2,
   "id": "0760284c",
   "metadata": {},
   "outputs": [],
   "source": [
    "# Tuple "
   ]
  },
  {
   "cell_type": "code",
   "execution_count": 9,
   "id": "5e6b3c8a",
   "metadata": {},
   "outputs": [
    {
     "name": "stdout",
     "output_type": "stream",
     "text": [
      "The elements of list of tuples is [(5, 7), (2, 6), (1, 9), (1, 3)]\n",
      "The Maximum absolute difference is 8\n"
     ]
    }
   ],
   "source": [
    "#Python program to find the maximum difference \n",
    "\n",
    "tupList = [(5, 7), (2, 6), (1, 9), (1, 3)]\n",
    "print(\"The elements of list of tuples is \" + str(tupList))\n",
    "maxTupDiff =max([abs(val2 - val1) for val1, val2 in tupList])\n",
    "print(\"The Maximum absolute difference is \" + str(maxTupDiff))"
   ]
  },
  {
   "cell_type": "code",
   "execution_count": 13,
   "id": "d3c18dc7",
   "metadata": {},
   "outputs": [
    {
     "name": "stdout",
     "output_type": "stream",
     "text": [
      "The list of Tuples is  [(1, 1), (2, 8), (5, 125), (8, 512), (7, 343)]\n"
     ]
    }
   ],
   "source": [
    "#Python program to create a list of tuples from given list having number and its cube in each tuple\n",
    "myList = [1, 2, 5 ,8, 7]\n",
    "\n",
    "tupleList = [] \n",
    "for val in myList:\n",
    "    myTuple = (val, (val*val*val))\n",
    "    tupleList.append(myTuple)\n",
    "\n",
    "print(\"The list of Tuples is \" , str(tupleList))"
   ]
  },
  {
   "cell_type": "code",
   "execution_count": 3,
   "id": "3830aa33",
   "metadata": {},
   "outputs": [],
   "source": [
    "# Dictionary "
   ]
  },
  {
   "cell_type": "code",
   "execution_count": null,
   "id": "5b46ddda",
   "metadata": {},
   "outputs": [],
   "source": [
    "# Program to filter dictionary based on values\n",
    "heights = {'John': 175, 'Jane': 150, 'Jim': 155, 'Matt': 170}\n",
    "\n",
    "tall = {key:value for (key, value) in heights.items() if value >= 170}\n",
    "\n",
    "print(tall)"
   ]
  },
  {
   "cell_type": "code",
   "execution_count": 14,
   "id": "bd9cbd17",
   "metadata": {},
   "outputs": [
    {
     "name": "stdout",
     "output_type": "stream",
     "text": [
      "{1: 1, 3: 9, 5: 25, 7: 49, 9: 81, 11: 121, 13: 169}\n"
     ]
    }
   ],
   "source": [
    "# Dictionary Comprehension with if conditional\n",
    "odd_squares = {x: x*x for x in range(15) if x % 2 == 1}\n",
    "\n",
    "print(odd_squares)"
   ]
  },
  {
   "cell_type": "code",
   "execution_count": 4,
   "id": "8346b715",
   "metadata": {},
   "outputs": [],
   "source": [
    "# String"
   ]
  },
  {
   "cell_type": "code",
   "execution_count": 17,
   "id": "a2cbeba8",
   "metadata": {},
   "outputs": [
    {
     "name": "stdout",
     "output_type": "stream",
     "text": [
      "4 letters found\n"
     ]
    }
   ],
   "source": [
    "# Iterating through a string\n",
    "count = 0\n",
    "for letter in 'Hello Chaitanya , welcome to M.tech in SIT':\n",
    "    if(letter == 'e'):\n",
    "        count += 1\n",
    "print(count,'letters found')"
   ]
  },
  {
   "cell_type": "code",
   "execution_count": 18,
   "id": "ed3ab171",
   "metadata": {},
   "outputs": [
    {
     "name": "stdout",
     "output_type": "stream",
     "text": [
      "list(enumerate(str) =  [(0, 'c'), (1, 'h'), (2, 'a'), (3, 'i'), (4, 't'), (5, 'a'), (6, 'n'), (7, 'y'), (8, 'a')]\n",
      "len(str) =  9\n"
     ]
    }
   ],
   "source": [
    "str = 'chaitanya'\n",
    "\n",
    "# enumerate()\n",
    "list_enumerate = list(enumerate(str))\n",
    "print('list(enumerate(str) = ', list_enumerate)\n",
    "\n",
    "#character count\n",
    "print('len(str) = ', len(str))"
   ]
  },
  {
   "cell_type": "code",
   "execution_count": null,
   "id": "58dc761b",
   "metadata": {},
   "outputs": [],
   "source": []
  }
 ],
 "metadata": {
  "kernelspec": {
   "display_name": "Python 3 (ipykernel)",
   "language": "python",
   "name": "python3"
  },
  "language_info": {
   "codemirror_mode": {
    "name": "ipython",
    "version": 3
   },
   "file_extension": ".py",
   "mimetype": "text/x-python",
   "name": "python",
   "nbconvert_exporter": "python",
   "pygments_lexer": "ipython3",
   "version": "3.9.12"
  }
 },
 "nbformat": 4,
 "nbformat_minor": 5
}
